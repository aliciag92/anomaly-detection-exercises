{
 "cells": [
  {
   "cell_type": "markdown",
   "metadata": {},
   "source": [
    "### Explore these logs of access to Codeup Curriculum: Ask pointed questions utilizing the Data Science Pipeline and see what you can find that interests you about this data!\n",
    "\n",
    "Ideas:\n",
    "- Can you label students who are viewing both the web dev and data science curriculum?\n",
    "- Can you label students by the program they are in?\n",
    "- Can you label users by student vs. staff?\n",
    "- What are Zach, Maggie, Faith, and Ryan's ids?"
   ]
  },
  {
   "cell_type": "code",
   "execution_count": null,
   "metadata": {},
   "outputs": [],
   "source": []
  }
 ],
 "metadata": {
  "kernelspec": {
   "display_name": "Python 3",
   "language": "python",
   "name": "python3"
  },
  "language_info": {
   "codemirror_mode": {
    "name": "ipython",
    "version": 3
   },
   "file_extension": ".py",
   "mimetype": "text/x-python",
   "name": "python",
   "nbconvert_exporter": "python",
   "pygments_lexer": "ipython3",
   "version": "3.8.5"
  }
 },
 "nbformat": 4,
 "nbformat_minor": 4
}
