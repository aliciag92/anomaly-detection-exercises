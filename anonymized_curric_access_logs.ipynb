{
 "cells": [
  {
   "cell_type": "code",
   "execution_count": 1,
   "metadata": {},
   "outputs": [],
   "source": [
    "import numpy as np\n",
    "import pandas as pd\n",
    "\n",
    "from __future__ import division\n",
    "import itertools\n",
    "\n",
    "import warnings\n",
    "warnings.filterwarnings(\"ignore\")\n",
    "\n",
    "import matplotlib.pyplot as plt\n",
    "import matplotlib.dates as mdates\n",
    "from matplotlib import style\n",
    "import seaborn as sns\n",
    "%matplotlib inline\n",
    "\n",
    "import math\n",
    "from sklearn import metrics\n",
    "from random import randint"
   ]
  },
  {
   "cell_type": "markdown",
   "metadata": {},
   "source": [
    "### Explore these logs of access to Codeup Curriculum: Ask pointed questions utilizing the Data Science Pipeline and see what you can find that interests you about this data!\n",
    "\n",
    "Ideas:\n",
    "- Can you label students who are viewing both the web dev and data science curriculum?\n",
    "- Can you label students by the program they are in?\n",
    "- Can you label users by student vs. staff?\n",
    "- What are Zach, Maggie, Faith, and Ryan's ids?"
   ]
  },
  {
   "cell_type": "markdown",
   "metadata": {},
   "source": [
    "## Acquire"
   ]
  },
  {
   "cell_type": "code",
   "execution_count": 2,
   "metadata": {},
   "outputs": [
    {
     "data": {
      "text/html": [
       "<div>\n",
       "<style scoped>\n",
       "    .dataframe tbody tr th:only-of-type {\n",
       "        vertical-align: middle;\n",
       "    }\n",
       "\n",
       "    .dataframe tbody tr th {\n",
       "        vertical-align: top;\n",
       "    }\n",
       "\n",
       "    .dataframe thead th {\n",
       "        text-align: right;\n",
       "    }\n",
       "</style>\n",
       "<table border=\"1\" class=\"dataframe\">\n",
       "  <thead>\n",
       "    <tr style=\"text-align: right;\">\n",
       "      <th></th>\n",
       "      <th>0</th>\n",
       "      <th>1</th>\n",
       "      <th>2</th>\n",
       "      <th>3</th>\n",
       "      <th>4</th>\n",
       "      <th>5</th>\n",
       "    </tr>\n",
       "  </thead>\n",
       "  <tbody>\n",
       "    <tr>\n",
       "      <th>0</th>\n",
       "      <td>2018-01-26</td>\n",
       "      <td>09:55:03</td>\n",
       "      <td>/</td>\n",
       "      <td>1</td>\n",
       "      <td>8.0</td>\n",
       "      <td>97.105.19.61</td>\n",
       "    </tr>\n",
       "    <tr>\n",
       "      <th>1</th>\n",
       "      <td>2018-01-26</td>\n",
       "      <td>09:56:02</td>\n",
       "      <td>java-ii</td>\n",
       "      <td>1</td>\n",
       "      <td>8.0</td>\n",
       "      <td>97.105.19.61</td>\n",
       "    </tr>\n",
       "    <tr>\n",
       "      <th>2</th>\n",
       "      <td>2018-01-26</td>\n",
       "      <td>09:56:05</td>\n",
       "      <td>java-ii/object-oriented-programming</td>\n",
       "      <td>1</td>\n",
       "      <td>8.0</td>\n",
       "      <td>97.105.19.61</td>\n",
       "    </tr>\n",
       "    <tr>\n",
       "      <th>3</th>\n",
       "      <td>2018-01-26</td>\n",
       "      <td>09:56:06</td>\n",
       "      <td>slides/object_oriented_programming</td>\n",
       "      <td>1</td>\n",
       "      <td>8.0</td>\n",
       "      <td>97.105.19.61</td>\n",
       "    </tr>\n",
       "    <tr>\n",
       "      <th>4</th>\n",
       "      <td>2018-01-26</td>\n",
       "      <td>09:56:24</td>\n",
       "      <td>javascript-i/conditionals</td>\n",
       "      <td>2</td>\n",
       "      <td>22.0</td>\n",
       "      <td>97.105.19.61</td>\n",
       "    </tr>\n",
       "  </tbody>\n",
       "</table>\n",
       "</div>"
      ],
      "text/plain": [
       "            0         1                                    2  3     4  \\\n",
       "0  2018-01-26  09:55:03                                    /  1   8.0   \n",
       "1  2018-01-26  09:56:02                              java-ii  1   8.0   \n",
       "2  2018-01-26  09:56:05  java-ii/object-oriented-programming  1   8.0   \n",
       "3  2018-01-26  09:56:06   slides/object_oriented_programming  1   8.0   \n",
       "4  2018-01-26  09:56:24            javascript-i/conditionals  2  22.0   \n",
       "\n",
       "              5  \n",
       "0  97.105.19.61  \n",
       "1  97.105.19.61  \n",
       "2  97.105.19.61  \n",
       "3  97.105.19.61  \n",
       "4  97.105.19.61  "
      ]
     },
     "execution_count": 2,
     "metadata": {},
     "output_type": "execute_result"
    }
   ],
   "source": [
    "#sep=' ' adds a separator btwn strings being printed\n",
    "#header=None tells pandas that source data has no row for headers/col titles.\n",
    "logs = pd.read_csv('anonymized-curriculum-access.txt', sep=' ', header=None)\n",
    "logs.head()"
   ]
  },
  {
   "cell_type": "code",
   "execution_count": 3,
   "metadata": {},
   "outputs": [
    {
     "data": {
      "text/plain": [
       "(900223, 6)"
      ]
     },
     "execution_count": 3,
     "metadata": {},
     "output_type": "execute_result"
    }
   ],
   "source": [
    "#check out rows/cols\n",
    "logs.shape"
   ]
  },
  {
   "cell_type": "code",
   "execution_count": 4,
   "metadata": {},
   "outputs": [
    {
     "data": {
      "text/plain": [
       "/                                                                            50313\n",
       "search/search_index.json                                                     19519\n",
       "javascript-i                                                                 18983\n",
       "toc                                                                          18297\n",
       "java-iii                                                                     13733\n",
       "html-css                                                                     13635\n",
       "java-ii                                                                      12685\n",
       "spring                                                                       12524\n",
       "jquery                                                                       11525\n",
       "mysql                                                                        11033\n",
       "java-i                                                                       10865\n",
       "javascript-ii                                                                10730\n",
       "appendix                                                                      8308\n",
       "javascript-i/introduction/working-with-data-types-operators-and-variables     7642\n",
       "mysql/tables                                                                  7356\n",
       "javascript-i/javascript-with-html                                             7350\n",
       "javascript-i/functions                                                        7348\n",
       "html-css/elements                                                             7074\n",
       "mysql/databases                                                               6940\n",
       "java-iii/jsp-and-jstl                                                         6876\n",
       "javascript-i/loops                                                            6794\n",
       "java-iii/servlets                                                             6776\n",
       "html-css/css-ii/bootstrap-grid-system                                         6668\n",
       "javascript-i/conditionals                                                     6596\n",
       "mysql/users                                                                   6448\n",
       "java-ii/object-oriented-programming                                           6249\n",
       "java-i/syntax-types-and-variables                                             6246\n",
       "mysql/basic-statements                                                        6197\n",
       "html-css/css-ii/bootstrap-introduction                                        6171\n",
       "spring/fundamentals/views                                                     5994\n",
       "spring/fundamentals/repositories                                              5877\n",
       "html-css/forms                                                                5870\n",
       "java-ii/arrays                                                                5588\n",
       "java-i/introduction-to-java                                                   5577\n",
       "javascript-ii/promises                                                        5433\n",
       "javascript-i/arrays/manipulating                                              5411\n",
       "jquery/selectors                                                              5407\n",
       "java-iii/jdbc                                                                 5378\n",
       "javascript-i/objects                                                          5361\n",
       "spring/fundamentals/controllers                                               5305\n",
       "javascript-i/bom-and-dom/dom                                                  5268\n",
       "java-ii/collections                                                           5267\n",
       "java-ii/inheritance-and-polymorphism                                          5262\n",
       "java-i/methods                                                                5249\n",
       "java-ii/interfaces-and-abstract-classes                                       5204\n",
       "html-css/css-i/selectors-and-properties                                       5197\n",
       "javascript-i/introduction/operators                                           5132\n",
       "javascript-i/arrays                                                           5128\n",
       "jquery/ajax/weather-map                                                       5117\n",
       "mysql/introduction                                                            5082\n",
       "Name: 2, dtype: int64"
      ]
     },
     "execution_count": 4,
     "metadata": {},
     "output_type": "execute_result"
    }
   ],
   "source": [
    "logs[2].value_counts().head(50)"
   ]
  },
  {
   "cell_type": "code",
   "execution_count": 5,
   "metadata": {},
   "outputs": [
    {
     "data": {
      "text/plain": [
       "7-clustering/review                                                                                                                                               1\n",
       "5-stats                                                                                                                                                           1\n",
       "prework/cli/03-filepaths                                                                                                                                          1\n",
       "appendix/open_data/www.flickr.com/services/api                                                                                                                    1\n",
       "student/202                                                                                                                                                       1\n",
       "studentx                                                                                                                                                          1\n",
       "slides/exceptions                                                                                                                                                 1\n",
       "sql.mysql-overview                                                                                                                                                1\n",
       "11-distributed-ml/6.4-prepare-part-4                                                                                                                              1\n",
       "javascript-i/introduction/working-with-data-types-operators-and-variables/600%20Navarro%20St.,%20San%20Antonio,%20TX%2078205,%20United%20States%20of%20America    1\n",
       "python                                                                                                                                                            1\n",
       "7.4.2-series                                                                                                                                                      1\n",
       "capstone/index                                                                                                                                                    1\n",
       "students/743/notes/0                                                                                                                                              1\n",
       "133                                                                                                                                                               1\n",
       "capstone/team                                                                                                                                                     1\n",
       "data-science-pipeline                                                                                                                                             1\n",
       "slides/formmodelbinding                                                                                                                                           1\n",
       "javascript-i/bom-and-dom/bom/http%22://www.google.com                                                                                                             1\n",
       "student/850                                                                                                                                                       1\n",
       "content/appendix/javascript/functions/templating.html                                                                                                             1\n",
       "appendix/open_data/www.openstreetmap.org                                                                                                                          1\n",
       "2-stats/2.4-more-excel-features                                                                                                                                   1\n",
       "content/javascript/arrays/arrays                                                                                                                                  1\n",
       "asset-manifest.json                                                                                                                                               1\n",
       "query/personal-site                                                                                                                                               1\n",
       "habn                                                                                                                                                              1\n",
       "7.04.02_Hierarchical                                                                                                                                              1\n",
       "5-stats/2-inferential-stats                                                                                                                                       1\n",
       "appendix/css-practice                                                                                                                                             1\n",
       "11-distributed-ml/6.1-prepare-part-1                                                                                                                              1\n",
       "extra-features/file-upload                                                                                                                                        1\n",
       "ajax                                                                                                                                                              1\n",
       "java-ii/file-op                                                                                                                                                   1\n",
       "appendix/further-reading/css-grid-additional-features                                                                                                             1\n",
       "grades                                                                                                                                                            1\n",
       "slides/array-lists                                                                                                                                                1\n",
       "content/html-css/forms-i/index.html                                                                                                                               1\n",
       "4-stats/2.2-probability_distributions/Selecting_a_hypothesis_test.svg                                                                                             1\n",
       "professional-development/cover-letter                                                                                                                             1\n",
       "12-advanced-topics/3.8-json-responses                                                                                                                             1\n",
       "spring/services                                                                                                                                                   1\n",
       "4-python                                                                                                                                                          1\n",
       "codeupexercises                                                                                                                                                   1\n",
       "appendix/open_data/www.census.gov                                                                                                                                 1\n",
       "appendix/further-reading/flexbox-additional-concepts                                                                                                              1\n",
       "7.4.1-pandas-overview                                                                                                                                             1\n",
       "8-timeseries/2-intro-to-timeseries                                                                                                                                1\n",
       "content/conditionals.html                                                                                                                                         1\n",
       "ml-methodologies-drawing.jpg                                                                                                                                      1\n",
       "Name: 2, dtype: int64"
      ]
     },
     "execution_count": 5,
     "metadata": {},
     "output_type": "execute_result"
    }
   ],
   "source": [
    "logs[2].value_counts().tail(50)"
   ]
  },
  {
   "cell_type": "code",
   "execution_count": 6,
   "metadata": {},
   "outputs": [
    {
     "data": {
      "text/plain": [
       "11     17913\n",
       "64     16347\n",
       "53     12329\n",
       "314     7783\n",
       "1       7404\n",
       "495     6451\n",
       "581     6434\n",
       "428     5897\n",
       "344     5460\n",
       "248     5075\n",
       "570     4584\n",
       "315     4510\n",
       "211     4227\n",
       "423     3804\n",
       "555     3687\n",
       "545     3528\n",
       "685     3522\n",
       "524     3512\n",
       "485     3268\n",
       "671     3241\n",
       "346     3182\n",
       "566     3163\n",
       "521     3052\n",
       "595     3050\n",
       "760     3019\n",
       "764     2975\n",
       "354     2965\n",
       "823     2946\n",
       "323     2933\n",
       "419     2877\n",
       "120     2870\n",
       "794     2852\n",
       "430     2811\n",
       "599     2711\n",
       "127     2687\n",
       "613     2685\n",
       "410     2650\n",
       "531     2632\n",
       "418     2598\n",
       "546     2585\n",
       "656     2570\n",
       "437     2523\n",
       "640     2472\n",
       "186     2450\n",
       "627     2439\n",
       "433     2428\n",
       "748     2399\n",
       "608     2387\n",
       "834     2379\n",
       "277     2367\n",
       "Name: 3, dtype: int64"
      ]
     },
     "execution_count": 6,
     "metadata": {},
     "output_type": "execute_result"
    }
   ],
   "source": [
    "logs[3].value_counts().head(50)"
   ]
  },
  {
   "cell_type": "code",
   "execution_count": 7,
   "metadata": {},
   "outputs": [
    {
     "data": {
      "text/plain": [
       "5.0          1\n",
       "4.0          4\n",
       "9.0          5\n",
       "6.0         72\n",
       "2.0         93\n",
       "11.0       253\n",
       "12.0       302\n",
       "7.0        598\n",
       "15.0       691\n",
       "16.0       755\n",
       "19.0      1237\n",
       "139.0     1672\n",
       "8.0       1712\n",
       "18.0      2158\n",
       "13.0      2845\n",
       "17.0      4954\n",
       "138.0     7276\n",
       "21.0      7444\n",
       "137.0     8562\n",
       "1.0       8890\n",
       "14.0      9587\n",
       "133.0    14715\n",
       "135.0    16397\n",
       "134.0    16623\n",
       "61.0     17713\n",
       "27.0     20743\n",
       "55.0     21582\n",
       "132.0    23691\n",
       "31.0     25359\n",
       "25.0     25586\n",
       "34.0     26538\n",
       "26.0     27749\n",
       "52.0     28033\n",
       "23.0     28534\n",
       "32.0     29356\n",
       "58.0     29855\n",
       "22.0     30926\n",
       "59.0     32015\n",
       "51.0     32888\n",
       "56.0     33568\n",
       "57.0     33844\n",
       "24.0     35636\n",
       "53.0     36902\n",
       "62.0     37109\n",
       "29.0     38096\n",
       "33.0     40730\n",
       "28.0     84031\n",
       "Name: 4, dtype: int64"
      ]
     },
     "execution_count": 7,
     "metadata": {},
     "output_type": "execute_result"
    }
   ],
   "source": [
    "logs[4].value_counts().sort_values()"
   ]
  },
  {
   "cell_type": "code",
   "execution_count": 8,
   "metadata": {},
   "outputs": [
    {
     "name": "stdout",
     "output_type": "stream",
     "text": [
      "<class 'pandas.core.frame.DataFrame'>\n",
      "RangeIndex: 900223 entries, 0 to 900222\n",
      "Data columns (total 6 columns):\n",
      " #   Column  Non-Null Count   Dtype  \n",
      "---  ------  --------------   -----  \n",
      " 0   0       900223 non-null  object \n",
      " 1   1       900223 non-null  object \n",
      " 2   2       900222 non-null  object \n",
      " 3   3       900223 non-null  int64  \n",
      " 4   4       847330 non-null  float64\n",
      " 5   5       900223 non-null  object \n",
      "dtypes: float64(1), int64(1), object(4)\n",
      "memory usage: 41.2+ MB\n"
     ]
    }
   ],
   "source": [
    "logs.info()"
   ]
  },
  {
   "cell_type": "code",
   "execution_count": 9,
   "metadata": {},
   "outputs": [
    {
     "data": {
      "text/plain": [
       "0        0\n",
       "1        0\n",
       "2        1\n",
       "3        0\n",
       "4    52893\n",
       "5        0\n",
       "dtype: int64"
      ]
     },
     "execution_count": 9,
     "metadata": {},
     "output_type": "execute_result"
    }
   ],
   "source": [
    "logs.isnull().sum()"
   ]
  },
  {
   "cell_type": "markdown",
   "metadata": {},
   "source": [
    "### Takeaways\n",
    "- Need to rename columns:\n",
    "    - col 0 is date\n",
    "    - col 1 is time\n",
    "    - col 2 looks like endpoint to base url (web_page?)\n",
    "    - col 3 could be user_id because there are more students than cohorts\n",
    "    - 4 to cohort_id because there are less cohorts than students?\n",
    "    - 5 is ip_address\n",
    "- date needs to be converted to datetime dtype and set as index (could also combine time col into here)\n",
    "- 1 null in web_page and tons of nulls in cohort_id.. not sure why. \n",
    "    - web_page null can be deleted and cohort_id nulls can be filled w/ 0's.\n"
   ]
  },
  {
   "cell_type": "markdown",
   "metadata": {},
   "source": [
    "## Prepare"
   ]
  },
  {
   "cell_type": "code",
   "execution_count": 11,
   "metadata": {},
   "outputs": [
    {
     "data": {
      "text/html": [
       "<div>\n",
       "<style scoped>\n",
       "    .dataframe tbody tr th:only-of-type {\n",
       "        vertical-align: middle;\n",
       "    }\n",
       "\n",
       "    .dataframe tbody tr th {\n",
       "        vertical-align: top;\n",
       "    }\n",
       "\n",
       "    .dataframe thead th {\n",
       "        text-align: right;\n",
       "    }\n",
       "</style>\n",
       "<table border=\"1\" class=\"dataframe\">\n",
       "  <thead>\n",
       "    <tr style=\"text-align: right;\">\n",
       "      <th></th>\n",
       "      <th>web_page</th>\n",
       "      <th>user_id</th>\n",
       "      <th>cohort_id</th>\n",
       "      <th>ip</th>\n",
       "    </tr>\n",
       "    <tr>\n",
       "      <th>datetime</th>\n",
       "      <th></th>\n",
       "      <th></th>\n",
       "      <th></th>\n",
       "      <th></th>\n",
       "    </tr>\n",
       "  </thead>\n",
       "  <tbody>\n",
       "    <tr>\n",
       "      <th>2018-01-26 09:55:03</th>\n",
       "      <td>/</td>\n",
       "      <td>1</td>\n",
       "      <td>8.0</td>\n",
       "      <td>97.105.19.61</td>\n",
       "    </tr>\n",
       "    <tr>\n",
       "      <th>2018-01-26 09:56:02</th>\n",
       "      <td>java-ii</td>\n",
       "      <td>1</td>\n",
       "      <td>8.0</td>\n",
       "      <td>97.105.19.61</td>\n",
       "    </tr>\n",
       "    <tr>\n",
       "      <th>2018-01-26 09:56:05</th>\n",
       "      <td>java-ii/object-oriented-programming</td>\n",
       "      <td>1</td>\n",
       "      <td>8.0</td>\n",
       "      <td>97.105.19.61</td>\n",
       "    </tr>\n",
       "    <tr>\n",
       "      <th>2018-01-26 09:56:06</th>\n",
       "      <td>slides/object_oriented_programming</td>\n",
       "      <td>1</td>\n",
       "      <td>8.0</td>\n",
       "      <td>97.105.19.61</td>\n",
       "    </tr>\n",
       "    <tr>\n",
       "      <th>2018-01-26 09:56:24</th>\n",
       "      <td>javascript-i/conditionals</td>\n",
       "      <td>2</td>\n",
       "      <td>22.0</td>\n",
       "      <td>97.105.19.61</td>\n",
       "    </tr>\n",
       "  </tbody>\n",
       "</table>\n",
       "</div>"
      ],
      "text/plain": [
       "                                                web_page  user_id  cohort_id  \\\n",
       "datetime                                                                       \n",
       "2018-01-26 09:55:03                                    /        1        8.0   \n",
       "2018-01-26 09:56:02                              java-ii        1        8.0   \n",
       "2018-01-26 09:56:05  java-ii/object-oriented-programming        1        8.0   \n",
       "2018-01-26 09:56:06   slides/object_oriented_programming        1        8.0   \n",
       "2018-01-26 09:56:24            javascript-i/conditionals        2       22.0   \n",
       "\n",
       "                               ip  \n",
       "datetime                           \n",
       "2018-01-26 09:55:03  97.105.19.61  \n",
       "2018-01-26 09:56:02  97.105.19.61  \n",
       "2018-01-26 09:56:05  97.105.19.61  \n",
       "2018-01-26 09:56:06  97.105.19.61  \n",
       "2018-01-26 09:56:24  97.105.19.61  "
      ]
     },
     "execution_count": 11,
     "metadata": {},
     "output_type": "execute_result"
    }
   ],
   "source": [
    "#name columns\n",
    "logs.columns = ['date', 'time', 'web_page', 'user_id', 'cohort_id', 'ip']\n",
    "\n",
    "#combine date and time columns, convert to datetime and set as index\n",
    "logs[\"datetime\"] = logs[\"date\"] + ' '+ logs[\"time\"]\n",
    "logs['datetime'] = pd.to_datetime(logs.datetime)\n",
    "logs = logs.set_index('datetime')\n",
    "\n",
    "#drop original date and time columns\n",
    "logs.drop(columns=['date', 'time'], inplace = True)\n",
    "\n",
    "logs.head()"
   ]
  },
  {
   "cell_type": "markdown",
   "metadata": {},
   "source": [
    "## Acquire from SQL Ace"
   ]
  },
  {
   "cell_type": "code",
   "execution_count": 12,
   "metadata": {},
   "outputs": [],
   "source": [
    "import env\n",
    "from env import host, user, password"
   ]
  },
  {
   "cell_type": "code",
   "execution_count": 15,
   "metadata": {},
   "outputs": [],
   "source": [
    "#defines function to create a sql url using personal credentials\n",
    "def get_connection(db, user=user, host=host, password=password):\n",
    "    '''\n",
    "    This function uses my info from my env file to\n",
    "    create a connection url to access the Codeup db.\n",
    "    '''\n",
    "    return f'mysql+pymysql://{user}:{password}@{host}/{db}'\n",
    "\n",
    "\n",
    "\n",
    "#returns logs data from MySQL db as a pandas df\n",
    "def get_logs():\n",
    "    '''\n",
    "    This function reads in the logs data from the Codeup db\n",
    "    and returns a pandas DataFrame with all columns.\n",
    "    '''\n",
    "    #create SQL query\n",
    "    sql_query = 'SELECT * FROM logs'\n",
    "    \n",
    "    #read in dataframe from Codeup db\n",
    "    df = pd.read_sql(sql_query, get_connection('curriculum_logs'))\n",
    "    \n",
    "    return df"
   ]
  },
  {
   "cell_type": "code",
   "execution_count": 17,
   "metadata": {},
   "outputs": [
    {
     "data": {
      "text/html": [
       "<div>\n",
       "<style scoped>\n",
       "    .dataframe tbody tr th:only-of-type {\n",
       "        vertical-align: middle;\n",
       "    }\n",
       "\n",
       "    .dataframe tbody tr th {\n",
       "        vertical-align: top;\n",
       "    }\n",
       "\n",
       "    .dataframe thead th {\n",
       "        text-align: right;\n",
       "    }\n",
       "</style>\n",
       "<table border=\"1\" class=\"dataframe\">\n",
       "  <thead>\n",
       "    <tr style=\"text-align: right;\">\n",
       "      <th></th>\n",
       "      <th>date</th>\n",
       "      <th>time</th>\n",
       "      <th>path</th>\n",
       "      <th>user_id</th>\n",
       "      <th>cohort_id</th>\n",
       "      <th>ip</th>\n",
       "    </tr>\n",
       "  </thead>\n",
       "  <tbody>\n",
       "    <tr>\n",
       "      <th>0</th>\n",
       "      <td>2018-01-26</td>\n",
       "      <td>09:55:03</td>\n",
       "      <td>/</td>\n",
       "      <td>1</td>\n",
       "      <td>8.0</td>\n",
       "      <td>97.105.19.61</td>\n",
       "    </tr>\n",
       "    <tr>\n",
       "      <th>1</th>\n",
       "      <td>2018-01-26</td>\n",
       "      <td>09:56:02</td>\n",
       "      <td>java-ii</td>\n",
       "      <td>1</td>\n",
       "      <td>8.0</td>\n",
       "      <td>97.105.19.61</td>\n",
       "    </tr>\n",
       "    <tr>\n",
       "      <th>2</th>\n",
       "      <td>2018-01-26</td>\n",
       "      <td>09:56:05</td>\n",
       "      <td>java-ii/object-oriented-programming</td>\n",
       "      <td>1</td>\n",
       "      <td>8.0</td>\n",
       "      <td>97.105.19.61</td>\n",
       "    </tr>\n",
       "    <tr>\n",
       "      <th>3</th>\n",
       "      <td>2018-01-26</td>\n",
       "      <td>09:56:06</td>\n",
       "      <td>slides/object_oriented_programming</td>\n",
       "      <td>1</td>\n",
       "      <td>8.0</td>\n",
       "      <td>97.105.19.61</td>\n",
       "    </tr>\n",
       "    <tr>\n",
       "      <th>4</th>\n",
       "      <td>2018-01-26</td>\n",
       "      <td>09:56:24</td>\n",
       "      <td>javascript-i/conditionals</td>\n",
       "      <td>2</td>\n",
       "      <td>22.0</td>\n",
       "      <td>97.105.19.61</td>\n",
       "    </tr>\n",
       "  </tbody>\n",
       "</table>\n",
       "</div>"
      ],
      "text/plain": [
       "         date      time                                 path  user_id  \\\n",
       "0  2018-01-26  09:55:03                                    /        1   \n",
       "1  2018-01-26  09:56:02                              java-ii        1   \n",
       "2  2018-01-26  09:56:05  java-ii/object-oriented-programming        1   \n",
       "3  2018-01-26  09:56:06   slides/object_oriented_programming        1   \n",
       "4  2018-01-26  09:56:24            javascript-i/conditionals        2   \n",
       "\n",
       "   cohort_id            ip  \n",
       "0        8.0  97.105.19.61  \n",
       "1        8.0  97.105.19.61  \n",
       "2        8.0  97.105.19.61  \n",
       "3        8.0  97.105.19.61  \n",
       "4       22.0  97.105.19.61  "
      ]
     },
     "execution_count": 17,
     "metadata": {},
     "output_type": "execute_result"
    }
   ],
   "source": [
    "df = get_logs()\n",
    "df.head()"
   ]
  },
  {
   "cell_type": "code",
   "execution_count": 18,
   "metadata": {},
   "outputs": [
    {
     "name": "stdout",
     "output_type": "stream",
     "text": [
      "<class 'pandas.core.frame.DataFrame'>\n",
      "RangeIndex: 900223 entries, 0 to 900222\n",
      "Data columns (total 6 columns):\n",
      " #   Column     Non-Null Count   Dtype  \n",
      "---  ------     --------------   -----  \n",
      " 0   date       900223 non-null  object \n",
      " 1   time       900223 non-null  object \n",
      " 2   path       900222 non-null  object \n",
      " 3   user_id    900223 non-null  int64  \n",
      " 4   cohort_id  847330 non-null  float64\n",
      " 5   ip         900223 non-null  object \n",
      "dtypes: float64(1), int64(1), object(4)\n",
      "memory usage: 41.2+ MB\n"
     ]
    }
   ],
   "source": [
    "df.info()"
   ]
  },
  {
   "cell_type": "markdown",
   "metadata": {},
   "source": [
    "## Prepare again"
   ]
  },
  {
   "cell_type": "code",
   "execution_count": 19,
   "metadata": {},
   "outputs": [
    {
     "data": {
      "text/html": [
       "<div>\n",
       "<style scoped>\n",
       "    .dataframe tbody tr th:only-of-type {\n",
       "        vertical-align: middle;\n",
       "    }\n",
       "\n",
       "    .dataframe tbody tr th {\n",
       "        vertical-align: top;\n",
       "    }\n",
       "\n",
       "    .dataframe thead th {\n",
       "        text-align: right;\n",
       "    }\n",
       "</style>\n",
       "<table border=\"1\" class=\"dataframe\">\n",
       "  <thead>\n",
       "    <tr style=\"text-align: right;\">\n",
       "      <th></th>\n",
       "      <th>web_page</th>\n",
       "      <th>user_id</th>\n",
       "      <th>cohort_id</th>\n",
       "      <th>ip</th>\n",
       "    </tr>\n",
       "    <tr>\n",
       "      <th>datetime</th>\n",
       "      <th></th>\n",
       "      <th></th>\n",
       "      <th></th>\n",
       "      <th></th>\n",
       "    </tr>\n",
       "  </thead>\n",
       "  <tbody>\n",
       "    <tr>\n",
       "      <th>2018-01-26 09:55:03</th>\n",
       "      <td>/</td>\n",
       "      <td>1</td>\n",
       "      <td>8.0</td>\n",
       "      <td>97.105.19.61</td>\n",
       "    </tr>\n",
       "    <tr>\n",
       "      <th>2018-01-26 09:56:02</th>\n",
       "      <td>java-ii</td>\n",
       "      <td>1</td>\n",
       "      <td>8.0</td>\n",
       "      <td>97.105.19.61</td>\n",
       "    </tr>\n",
       "    <tr>\n",
       "      <th>2018-01-26 09:56:05</th>\n",
       "      <td>java-ii/object-oriented-programming</td>\n",
       "      <td>1</td>\n",
       "      <td>8.0</td>\n",
       "      <td>97.105.19.61</td>\n",
       "    </tr>\n",
       "    <tr>\n",
       "      <th>2018-01-26 09:56:06</th>\n",
       "      <td>slides/object_oriented_programming</td>\n",
       "      <td>1</td>\n",
       "      <td>8.0</td>\n",
       "      <td>97.105.19.61</td>\n",
       "    </tr>\n",
       "    <tr>\n",
       "      <th>2018-01-26 09:56:24</th>\n",
       "      <td>javascript-i/conditionals</td>\n",
       "      <td>2</td>\n",
       "      <td>22.0</td>\n",
       "      <td>97.105.19.61</td>\n",
       "    </tr>\n",
       "  </tbody>\n",
       "</table>\n",
       "</div>"
      ],
      "text/plain": [
       "                                                web_page  user_id  cohort_id  \\\n",
       "datetime                                                                       \n",
       "2018-01-26 09:55:03                                    /        1        8.0   \n",
       "2018-01-26 09:56:02                              java-ii        1        8.0   \n",
       "2018-01-26 09:56:05  java-ii/object-oriented-programming        1        8.0   \n",
       "2018-01-26 09:56:06   slides/object_oriented_programming        1        8.0   \n",
       "2018-01-26 09:56:24            javascript-i/conditionals        2       22.0   \n",
       "\n",
       "                               ip  \n",
       "datetime                           \n",
       "2018-01-26 09:55:03  97.105.19.61  \n",
       "2018-01-26 09:56:02  97.105.19.61  \n",
       "2018-01-26 09:56:05  97.105.19.61  \n",
       "2018-01-26 09:56:06  97.105.19.61  \n",
       "2018-01-26 09:56:24  97.105.19.61  "
      ]
     },
     "execution_count": 19,
     "metadata": {},
     "output_type": "execute_result"
    }
   ],
   "source": [
    "#name columns\n",
    "df.columns = ['date', 'time', 'web_page', 'user_id', 'cohort_id', 'ip']\n",
    "\n",
    "#combine date and time columns, convert to datetime and set as index\n",
    "df[\"datetime\"] = df[\"date\"] + ' '+ df[\"time\"]\n",
    "df['datetime'] = pd.to_datetime(df.datetime)\n",
    "df = df.set_index('datetime')\n",
    "\n",
    "#drop original date and time columns\n",
    "df.drop(columns=['date', 'time'], inplace = True)\n",
    "\n",
    "df.head()"
   ]
  },
  {
   "cell_type": "code",
   "execution_count": 20,
   "metadata": {},
   "outputs": [
    {
     "name": "stdout",
     "output_type": "stream",
     "text": [
      "<class 'pandas.core.frame.DataFrame'>\n",
      "DatetimeIndex: 900223 entries, 2018-01-26 09:55:03 to 2021-04-21 16:44:39\n",
      "Data columns (total 4 columns):\n",
      " #   Column     Non-Null Count   Dtype  \n",
      "---  ------     --------------   -----  \n",
      " 0   web_page   900222 non-null  object \n",
      " 1   user_id    900223 non-null  int64  \n",
      " 2   cohort_id  847330 non-null  float64\n",
      " 3   ip         900223 non-null  object \n",
      "dtypes: float64(1), int64(1), object(2)\n",
      "memory usage: 34.3+ MB\n"
     ]
    }
   ],
   "source": [
    "df.info()"
   ]
  },
  {
   "cell_type": "code",
   "execution_count": null,
   "metadata": {},
   "outputs": [],
   "source": []
  }
 ],
 "metadata": {
  "kernelspec": {
   "display_name": "Python 3",
   "language": "python",
   "name": "python3"
  },
  "language_info": {
   "codemirror_mode": {
    "name": "ipython",
    "version": 3
   },
   "file_extension": ".py",
   "mimetype": "text/x-python",
   "name": "python",
   "nbconvert_exporter": "python",
   "pygments_lexer": "ipython3",
   "version": "3.8.5"
  }
 },
 "nbformat": 4,
 "nbformat_minor": 4
}
